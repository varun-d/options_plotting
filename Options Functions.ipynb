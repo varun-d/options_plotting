{
 "cells": [
  {
   "cell_type": "code",
   "execution_count": 288,
   "metadata": {},
   "outputs": [],
   "source": [
    "import numpy as np\n",
    "import matplotlib.pyplot as plt\n",
    "import seaborn\n",
    "\n",
    "\"\"\"\n",
    "Todo\n",
    "Add multiplyer\n",
    "Add put\n",
    "\"\"\""
   ]
  },
  {
   "cell_type": "code",
   "execution_count": 317,
   "metadata": {},
   "outputs": [],
   "source": [
    "class OptionPosition:\n",
    "    def __init__(self, spot_price):\n",
    "        self.spot_price = spot_price\n",
    "        self.stock_range = self.__create_range((0.8,1.2))\n",
    "        self.positions = []\n",
    "        \n",
    "    def __create_range(self, _iv_range):\n",
    "        _sr = np.arange(_iv_range[0]*self.spot_price, _iv_range[1]*self.spot_price, 1)\n",
    "        _sr = np.floor(_sr)\n",
    "        return _sr\n",
    "    \n",
    "    def add_call(self, strike_price, premium, long_short=\"long\", multi=1):\n",
    "        if long_short == \"long\": \n",
    "            _payoff = np.where(self.stock_range > strike_price, (self.stock_range - strike_price), 0) - premium\n",
    "        else:\n",
    "            _payoff = np.where(self.stock_range > strike_price, (strike_price - self.stock_range), 0) + premium        \n",
    "        \n",
    "        self.positions.append({\"name\": long_short.title()+\" Call\", \"payoff\": _payoff, \"strike_price\": strike_price, \"premium\": premium})\n",
    "        \n",
    "        _message = \"Added a {} call position with strike at ${} for ${:.2f} premium\".format(long_short, strike_price, float(premium))\n",
    "        return _message\n",
    "    \n",
    "    def add_put(self, strike_price, premium, long_short=\"long\", multi=1):\n",
    "        if long_short == \"long\": \n",
    "            _payoff = np.where(self.stock_range < strike_price, (self.stock_range - strike_price), 0) - premium\n",
    "        else:\n",
    "            _payoff = np.where(self.stock_range < strike_price, (strike_price - self.stock_range), 0) + premium        \n",
    "        \n",
    "        self.positions.append({\"name\": long_short.title()+\" Put\", \"payoff\": _payoff, \"strike_price\": strike_price, \"premium\": premium})\n",
    "        \n",
    "        _message = \"Added a {} put position with strike at ${} for ${:.2f} premium\".format(long_short, strike_price, float(premium))\n",
    "        return _message\n",
    "    \n",
    "    def __repr__(self):\n",
    "        _positions = \"Positions Created: \\n\"\n",
    "        for pos in self.positions:\n",
    "            _positions = _positions + str(pos) + '\\n'\n",
    "        return _positions\n",
    "    \n",
    "    def plot_all_payoffs(self):\n",
    "        fig, ax = plt.subplots()\n",
    "        plt.xlabel('Stock Price')\n",
    "        plt.ylabel('P/L')\n",
    "        ax.spines['bottom'].set_position('zero')\n",
    "        for option in self.positions:\n",
    "            _legend = \"${:.1f} strike {} for ${:.2f}\".format(float(option['strike_price']), option['name'],float(option['premium']))\n",
    "            ax.plot(self.stock_range, option['payoff'], label=_legend)\n",
    "        plt.legend()\n",
    "        plt.show()\n",
    "        \n",
    "    def plot_tot_payoff(self):\n",
    "        total_payoff = np.zeros_like(self.stock_range) # Create a blank P/L np array\n",
    "        for option in self.positions:\n",
    "            total_payoff = total_payoff + option[\"payoff\"]\n",
    "        fig, ax = plt.subplots()\n",
    "        plt.xlabel('Stock Price')\n",
    "        plt.ylabel('P/L')\n",
    "        ax.spines['bottom'].set_position('zero')\n",
    "#         _legend = \"${:.1f} strike {} for ${:.2f}\".format(float(option['strike_price']), option['name'],float(option['premium']))\n",
    "        \n",
    "        ax.plot(self.stock_range, total_payoff, label=\"test\")\n",
    "        plt.legend()\n",
    "        plt.show()"
   ]
  },
  {
   "cell_type": "code",
   "execution_count": 318,
   "metadata": {},
   "outputs": [
    {
     "data": {
      "text/plain": [
       "array([ 80.,  81.,  82.,  83.,  84.,  85.,  86.,  87.,  88.,  89.,  90.,\n",
       "        91.,  92.,  93.,  94.,  95.,  96.,  97.,  98.,  99., 100., 101.,\n",
       "       102., 103., 104., 105., 106., 107., 108., 109., 110., 111., 112.,\n",
       "       113., 114., 115., 116., 117., 118., 119.])"
      ]
     },
     "execution_count": 318,
     "metadata": {},
     "output_type": "execute_result"
    }
   ],
   "source": [
    "rkt_vertical_debit = OptionPosition(100)\n",
    "rkt_vertical_debit.stock_range"
   ]
  },
  {
   "cell_type": "code",
   "execution_count": 319,
   "metadata": {},
   "outputs": [
    {
     "data": {
      "text/plain": [
       "'Added a long put position with strike at $95 for $7.50 premium'"
      ]
     },
     "execution_count": 319,
     "metadata": {},
     "output_type": "execute_result"
    }
   ],
   "source": [
    "rkt_vertical_debit.add_call(95, 7.5, \"long\")"
   ]
  },
  {
   "cell_type": "code",
   "execution_count": 320,
   "metadata": {},
   "outputs": [
    {
     "data": {
      "text/plain": [
       "'Added a short put position with strike at $110 for $2.50 premium'"
      ]
     },
     "execution_count": 320,
     "metadata": {},
     "output_type": "execute_result"
    }
   ],
   "source": [
    "rkt_vertical_debit.add_call(110, 2.5, \"short\")"
   ]
  },
  {
   "cell_type": "code",
   "execution_count": 321,
   "metadata": {},
   "outputs": [
    {
     "data": {
      "text/plain": [
       "Positions Created: \n",
       "{'name': 'Long Put', 'payoff': array([-22.5, -21.5, -20.5, -19.5, -18.5, -17.5, -16.5, -15.5, -14.5,\n",
       "       -13.5, -12.5, -11.5, -10.5,  -9.5,  -8.5,  -7.5,  -7.5,  -7.5,\n",
       "        -7.5,  -7.5,  -7.5,  -7.5,  -7.5,  -7.5,  -7.5,  -7.5,  -7.5,\n",
       "        -7.5,  -7.5,  -7.5,  -7.5,  -7.5,  -7.5,  -7.5,  -7.5,  -7.5,\n",
       "        -7.5,  -7.5,  -7.5,  -7.5]), 'strike_price': 95, 'premium': 7.5}\n",
       "{'name': 'Short Put', 'payoff': array([32.5, 31.5, 30.5, 29.5, 28.5, 27.5, 26.5, 25.5, 24.5, 23.5, 22.5,\n",
       "       21.5, 20.5, 19.5, 18.5, 17.5, 16.5, 15.5, 14.5, 13.5, 12.5, 11.5,\n",
       "       10.5,  9.5,  8.5,  7.5,  6.5,  5.5,  4.5,  3.5,  2.5,  2.5,  2.5,\n",
       "        2.5,  2.5,  2.5,  2.5,  2.5,  2.5,  2.5]), 'strike_price': 110, 'premium': 2.5}"
      ]
     },
     "execution_count": 321,
     "metadata": {},
     "output_type": "execute_result"
    }
   ],
   "source": [
    "rkt_vertical_debit"
   ]
  },
  {
   "cell_type": "code",
   "execution_count": 322,
   "metadata": {
    "scrolled": true
   },
   "outputs": [
    {
     "data": {
      "image/png": "[encoded data removed]",
      "text/plain": [
       "<Figure size 432x288 with 1 Axes>"
      ]
     },
     "metadata": {
      "needs_background": "light"
     },
     "output_type": "display_data"
    }
   ],
   "source": [
    "rkt_vertical_debit.plot_all_payoffs()"
   ]
  },
  {
   "cell_type": "code",
   "execution_count": 323,
   "metadata": {},
   "outputs": [
    {
     "data": {
      "image/png": "[encoded data removed]",
      "text/plain": [
       "<Figure size 432x288 with 1 Axes>"
      ]
     },
     "metadata": {
      "needs_background": "light"
     },
     "output_type": "display_data"
    }
   ],
   "source": [
    "rkt_vertical_debit.plot_tot_payoff()"
   ]
  },
  {
   "cell_type": "code",
   "execution_count": null,
   "metadata": {},
   "outputs": [],
   "source": []
  },
  {
   "cell_type": "code",
   "execution_count": null,
   "metadata": {},
   "outputs": [],
   "source": []
  },
  {
   "cell_type": "code",
   "execution_count": null,
   "metadata": {},
   "outputs": [],
   "source": []
  },
  {
   "cell_type": "code",
   "execution_count": null,
   "metadata": {},
   "outputs": [],
   "source": []
  }
 ],
 "metadata": {
  "kernelspec": {
   "display_name": "_env",
   "language": "python",
   "name": "_env"
  },
  "language_info": {
   "codemirror_mode": {
    "name": "ipython",
    "version": 3
   },
   "file_extension": ".py",
   "mimetype": "text/x-python",
   "name": "python",
   "nbconvert_exporter": "python",
   "pygments_lexer": "ipython3",
   "version": "3.8.6"
  }
 },
 "nbformat": 4,
 "nbformat_minor": 4
}
