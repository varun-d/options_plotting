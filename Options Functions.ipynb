{
 "cells": [
  {
   "cell_type": "code",
   "execution_count": 288,
   "metadata": {},
   "outputs": [],
   "source": [
    "import numpy as np\n",
    "import matplotlib.pyplot as plt\n",
    "import seaborn\n",
    "\n",
    "\"\"\"\n",
    "Todo\n",
    "Add multiplyer\n",
    "Add put\n",
    "\"\"\""
   ]
  },
  {
   "cell_type": "code",
   "execution_count": 370,
   "metadata": {},
   "outputs": [],
   "source": [
    "class OptionPosition:\n",
    "    def __init__(self, spot_price):\n",
    "        self.spot_price = spot_price\n",
    "        self.stock_range = self.__create_range((0.8,1.2))\n",
    "        self.positions = []\n",
    "        \n",
    "    def __create_range(self, _iv_range):\n",
    "        _sr = np.arange(_iv_range[0]*self.spot_price, _iv_range[1]*self.spot_price, 1)\n",
    "        _sr = np.floor(_sr)\n",
    "        return _sr\n",
    "    \n",
    "    def add_call(self, strike_price, premium, long_short=\"long\", multi=1):\n",
    "        if long_short == \"long\": \n",
    "            _payoff = np.where(self.stock_range > strike_price, (self.stock_range - strike_price), 0) - premium\n",
    "        else:\n",
    "            _payoff = np.where(self.stock_range > strike_price, (strike_price - self.stock_range), 0) + premium        \n",
    "        \n",
    "        self.positions.append({\"name\": long_short.title()+\" Call\", \"payoff\": _payoff, \"strike_price\": strike_price, \"premium\": premium})\n",
    "        \n",
    "        _message = \"Added a {} call position with strike at ${} for ${:.2f} premium\".format(long_short, strike_price, float(premium))\n",
    "        return _message\n",
    "    \n",
    "    def add_put(self, strike_price, premium, long_short=\"long\", multi=1):\n",
    "        if long_short == \"long\": \n",
    "            _payoff = np.where(self.stock_range < strike_price, (strike_price - self.stock_range), 0) - premium\n",
    "        else:\n",
    "            _payoff = np.where(self.stock_range < strike_price, (self.stock_range - strike_price), 0) + premium        \n",
    "        \n",
    "        self.positions.append({\"name\": long_short.title()+\" Put\", \"payoff\": _payoff, \"strike_price\": strike_price, \"premium\": premium})\n",
    "        \n",
    "        _message = \"Added a {} put position with strike at ${} for ${:.2f} premium\".format(long_short, strike_price, float(premium))\n",
    "        return _message\n",
    "    \n",
    "    def __repr__(self):\n",
    "        _positions = \"Positions Created: \\n\"\n",
    "        for pos in self.positions:\n",
    "            _positions = _positions + str(pos) + '\\n'\n",
    "        return _positions\n",
    "    \n",
    "    def plot_all_payoffs(self):\n",
    "        fig, ax = plt.subplots()\n",
    "        plt.xlabel('Stock Price')\n",
    "        plt.ylabel('P/L')\n",
    "        ax.spines['bottom'].set_position('zero')\n",
    "        for option in self.positions:\n",
    "            _legend = \"${:.1f} strike {} for ${:.2f}\".format(float(option['strike_price']), option['name'],float(option['premium']))\n",
    "            ax.plot(self.stock_range, option['payoff'], label=_legend)\n",
    "        plt.legend()\n",
    "        plt.show()\n",
    "        \n",
    "    def plot_tot_payoff(self):\n",
    "        total_payoff = np.zeros_like(self.stock_range) # Create a blank P/L np array\n",
    "        for option in self.positions:\n",
    "            total_payoff = total_payoff + option[\"payoff\"]\n",
    "        print(total_payoff)\n",
    "        fig, ax = plt.subplots()\n",
    "        plt.xlabel('Stock Price')\n",
    "        plt.ylabel('P/L')\n",
    "        ax.spines['bottom'].set_position('zero')\n",
    "#         _legend = \"${:.1f} strike {} for ${:.2f}\".format(float(option['strike_price']), option['name'],float(option['premium']))\n",
    "        \n",
    "        ax.plot(self.stock_range, total_payoff, label=\"P/L of strategy\")\n",
    "        plt.legend()\n",
    "        plt.show()"
   ]
  },
  {
   "cell_type": "code",
   "execution_count": 371,
   "metadata": {},
   "outputs": [
    {
     "data": {
      "text/plain": [
       "array([160., 161., 162., 163., 164., 165., 166., 167., 168., 169., 170.,\n",
       "       171., 172., 173., 174., 175., 176., 177., 178., 179., 180., 181.,\n",
       "       182., 183., 184., 185., 186., 187., 188., 189., 190., 191., 192.,\n",
       "       193., 194., 195., 196., 197., 198., 199., 200., 201., 202., 203.,\n",
       "       204., 205., 206., 207., 208., 209., 210., 211., 212., 213., 214.,\n",
       "       215., 216., 217., 218., 219., 220., 221., 222., 223., 224., 225.,\n",
       "       226., 227., 228., 229., 230., 231., 232., 233., 234., 235., 236.,\n",
       "       237., 238., 239.])"
      ]
     },
     "execution_count": 371,
     "metadata": {},
     "output_type": "execute_result"
    }
   ],
   "source": [
    "rkt_vertical_debit = OptionPosition(200)\n",
    "rkt_vertical_debit.stock_range"
   ]
  },
  {
   "cell_type": "code",
   "execution_count": 372,
   "metadata": {},
   "outputs": [
    {
     "data": {
      "text/plain": [
       "'Added a long put position with strike at $190 for $3.78 premium'"
      ]
     },
     "execution_count": 372,
     "metadata": {},
     "output_type": "execute_result"
    }
   ],
   "source": [
    "rkt_vertical_debit.add_put(190, 3.78, \"long\")"
   ]
  },
  {
   "cell_type": "code",
   "execution_count": 373,
   "metadata": {},
   "outputs": [
    {
     "data": {
      "text/plain": [
       "'Added a long call position with strike at $210 for $4.31 premium'"
      ]
     },
     "execution_count": 373,
     "metadata": {},
     "output_type": "execute_result"
    }
   ],
   "source": [
    "rkt_vertical_debit.add_call(210, 4.31, \"long\")"
   ]
  },
  {
   "cell_type": "code",
   "execution_count": 374,
   "metadata": {},
   "outputs": [
    {
     "data": {
      "text/plain": [
       "Positions Created: \n",
       "{'name': 'Long Put', 'payoff': array([26.22, 25.22, 24.22, 23.22, 22.22, 21.22, 20.22, 19.22, 18.22,\n",
       "       17.22, 16.22, 15.22, 14.22, 13.22, 12.22, 11.22, 10.22,  9.22,\n",
       "        8.22,  7.22,  6.22,  5.22,  4.22,  3.22,  2.22,  1.22,  0.22,\n",
       "       -0.78, -1.78, -2.78, -3.78, -3.78, -3.78, -3.78, -3.78, -3.78,\n",
       "       -3.78, -3.78, -3.78, -3.78, -3.78, -3.78, -3.78, -3.78, -3.78,\n",
       "       -3.78, -3.78, -3.78, -3.78, -3.78, -3.78, -3.78, -3.78, -3.78,\n",
       "       -3.78, -3.78, -3.78, -3.78, -3.78, -3.78, -3.78, -3.78, -3.78,\n",
       "       -3.78, -3.78, -3.78, -3.78, -3.78, -3.78, -3.78, -3.78, -3.78,\n",
       "       -3.78, -3.78, -3.78, -3.78, -3.78, -3.78, -3.78, -3.78]), 'strike_price': 190, 'premium': 3.78}\n",
       "{'name': 'Long Call', 'payoff': array([-4.31, -4.31, -4.31, -4.31, -4.31, -4.31, -4.31, -4.31, -4.31,\n",
       "       -4.31, -4.31, -4.31, -4.31, -4.31, -4.31, -4.31, -4.31, -4.31,\n",
       "       -4.31, -4.31, -4.31, -4.31, -4.31, -4.31, -4.31, -4.31, -4.31,\n",
       "       -4.31, -4.31, -4.31, -4.31, -4.31, -4.31, -4.31, -4.31, -4.31,\n",
       "       -4.31, -4.31, -4.31, -4.31, -4.31, -4.31, -4.31, -4.31, -4.31,\n",
       "       -4.31, -4.31, -4.31, -4.31, -4.31, -4.31, -3.31, -2.31, -1.31,\n",
       "       -0.31,  0.69,  1.69,  2.69,  3.69,  4.69,  5.69,  6.69,  7.69,\n",
       "        8.69,  9.69, 10.69, 11.69, 12.69, 13.69, 14.69, 15.69, 16.69,\n",
       "       17.69, 18.69, 19.69, 20.69, 21.69, 22.69, 23.69, 24.69]), 'strike_price': 210, 'premium': 4.31}"
      ]
     },
     "execution_count": 374,
     "metadata": {},
     "output_type": "execute_result"
    }
   ],
   "source": [
    "rkt_vertical_debit"
   ]
  },
  {
   "cell_type": "code",
   "execution_count": 375,
   "metadata": {
    "scrolled": true
   },
   "outputs": [
    {
     "data": {
      "image/png": "[encoded data removed]",
      "text/plain": [
       "<Figure size 432x288 with 1 Axes>"
      ]
     },
     "metadata": {
      "needs_background": "light"
     },
     "output_type": "display_data"
    }
   ],
   "source": [
    "rkt_vertical_debit.plot_all_payoffs()"
   ]
  },
  {
   "cell_type": "code",
   "execution_count": 376,
   "metadata": {},
   "outputs": [
    {
     "name": "stdout",
     "output_type": "stream",
     "text": [
      "[21.91 20.91 19.91 18.91 17.91 16.91 15.91 14.91 13.91 12.91 11.91 10.91\n",
      "  9.91  8.91  7.91  6.91  5.91  4.91  3.91  2.91  1.91  0.91 -0.09 -1.09\n",
      " -2.09 -3.09 -4.09 -5.09 -6.09 -7.09 -8.09 -8.09 -8.09 -8.09 -8.09 -8.09\n",
      " -8.09 -8.09 -8.09 -8.09 -8.09 -8.09 -8.09 -8.09 -8.09 -8.09 -8.09 -8.09\n",
      " -8.09 -8.09 -8.09 -7.09 -6.09 -5.09 -4.09 -3.09 -2.09 -1.09 -0.09  0.91\n",
      "  1.91  2.91  3.91  4.91  5.91  6.91  7.91  8.91  9.91 10.91 11.91 12.91\n",
      " 13.91 14.91 15.91 16.91 17.91 18.91 19.91 20.91]\n"
     ]
    },
    {
     "data": {
      "image/png": "[encoded data removed]",
      "text/plain": [
       "<Figure size 432x288 with 1 Axes>"
      ]
     },
     "metadata": {
      "needs_background": "light"
     },
     "output_type": "display_data"
    }
   ],
   "source": [
    "rkt_vertical_debit.plot_tot_payoff()"
   ]
  },
  {
   "cell_type": "code",
   "execution_count": null,
   "metadata": {},
   "outputs": [],
   "source": []
  },
  {
   "cell_type": "code",
   "execution_count": null,
   "metadata": {},
   "outputs": [],
   "source": []
  },
  {
   "cell_type": "code",
   "execution_count": null,
   "metadata": {},
   "outputs": [],
   "source": []
  },
  {
   "cell_type": "code",
   "execution_count": null,
   "metadata": {},
   "outputs": [],
   "source": []
  }
 ],
 "metadata": {
  "kernelspec": {
   "display_name": "_env",
   "language": "python",
   "name": "_env"
  },
  "language_info": {
   "codemirror_mode": {
    "name": "ipython",
    "version": 3
   },
   "file_extension": ".py",
   "mimetype": "text/x-python",
   "name": "python",
   "nbconvert_exporter": "python",
   "pygments_lexer": "ipython3",
   "version": "3.8.6"
  }
 },
 "nbformat": 4,
 "nbformat_minor": 4
}
